{
 "cells": [
  {
   "cell_type": "markdown",
   "metadata": {},
   "source": [
    "# IMPORT"
   ]
  },
  {
   "cell_type": "code",
   "execution_count": null,
   "metadata": {},
   "outputs": [],
   "source": [
    "import pandas as pd"
   ]
  },
  {
   "cell_type": "code",
   "execution_count": null,
   "metadata": {},
   "outputs": [],
   "source": [
    "from IPython.core.display import display, HTML"
   ]
  },
  {
   "cell_type": "code",
   "execution_count": null,
   "metadata": {},
   "outputs": [],
   "source": [
    "from copy import deepcopy"
   ]
  },
  {
   "cell_type": "code",
   "execution_count": null,
   "metadata": {},
   "outputs": [],
   "source": [
    "from seedUtils import seedUtils\n",
    "import io\n",
    "import os\n",
    "import base64"
   ]
  },
  {
   "cell_type": "code",
   "execution_count": null,
   "metadata": {},
   "outputs": [],
   "source": [
    "import matplotlib\n",
    "\n",
    "import matplotlib.pyplot as plt\n",
    "import matplotlib.patches as patches\n",
    "\n",
    "import numpy as np"
   ]
  },
  {
   "cell_type": "code",
   "execution_count": null,
   "metadata": {},
   "outputs": [],
   "source": [
    "from graphviz import Digraph"
   ]
  },
  {
   "cell_type": "code",
   "execution_count": null,
   "metadata": {},
   "outputs": [],
   "source": [
    "import cv2"
   ]
  },
  {
   "cell_type": "code",
   "execution_count": null,
   "metadata": {},
   "outputs": [],
   "source": [
    "%load_ext autoreload\n",
    "%autoreload 2"
   ]
  },
  {
   "cell_type": "markdown",
   "metadata": {},
   "source": [
    "# UTILITY FUNCTIONS"
   ]
  },
  {
   "cell_type": "code",
   "execution_count": null,
   "metadata": {},
   "outputs": [],
   "source": [
    "def renderDatasetImg(image, title=None) :\n",
    "    img = io.BytesIO()\n",
    "    fig = plt.figure()\n",
    "    plt.imshow(image)\n",
    "    plt.axis(\"off\")\n",
    "    plt.savefig(img, format='png')\n",
    "    plt.cla()\n",
    "    plt.clf()\n",
    "    plt.close('all')\n",
    "    img.seek(0)\n",
    "    plot_url = base64.b64encode(img.getvalue()).decode()\n",
    "    return plot_url"
   ]
  },
  {
   "cell_type": "code",
   "execution_count": null,
   "metadata": {},
   "outputs": [],
   "source": [
    "def renderDatasetImgMuRGB(muR, muG, muB, title=None) :\n",
    "    img = io.BytesIO()\n",
    "    fig = plt.figure()\n",
    "    ble = np.asarray([[[muR, muG, muB]]], dtype=np.uint8)\n",
    "    plt.imshow(ble)\n",
    "    plt.axis(\"off\")\n",
    "    plt.savefig(img, format='png')\n",
    "    plt.cla()\n",
    "    plt.clf()\n",
    "    plt.close('all')\n",
    "    img.seek(0)\n",
    "    plot_url = base64.b64encode(img.getvalue()).decode()\n",
    "    return plot_url"
   ]
  },
  {
   "cell_type": "code",
   "execution_count": null,
   "metadata": {},
   "outputs": [],
   "source": [
    "def renderChromosome(x) :\n",
    "    chromosomeSplit, _ = seedUtils.splitChromosome(x)\n",
    "    perimeter, bbox, colour, alpha = seedUtils.chromosome2image(x)\n",
    "\n",
    "    img = io.BytesIO()\n",
    "\n",
    "    fig, ax = plt.subplots()\n",
    "\n",
    "    isShaped = chromosomeSplit[seedUtils.chromosomeOrder.index('isShaped')][0]\n",
    "    if isShaped :\n",
    "        poly = patches.Polygon(perimeter.transpose(), color=colour + alpha)\n",
    "        ax.add_patch(poly)\n",
    "        ax.scatter(perimeter[0], perimeter[1], c='black', marker='.')\n",
    "        plt.xlim(bbox['x0'], bbox['x0']+bbox['width'])\n",
    "        plt.ylim(bbox['y0'], bbox['y0']+bbox['height'])\n",
    "    else :\n",
    "        ble = np.asarray(255.0 * np.asarray(colour), dtype=np.uint8)\n",
    "        ble = np.asarray([[ble]], dtype=np.uint8)\n",
    "        plt.imshow(ble)\n",
    "\n",
    "    plt.axis(\"off\")\n",
    "    plt.savefig(img, format='png')\n",
    "    plt.cla()\n",
    "    plt.clf()\n",
    "    plt.close('all')\n",
    "    img.seek(0)\n",
    "    plot_url = base64.b64encode(img.getvalue()).decode()\n",
    "    return plot_url"
   ]
  },
  {
   "cell_type": "code",
   "execution_count": null,
   "metadata": {},
   "outputs": [],
   "source": [
    "def renderChromosome2(x) :\n",
    "    chromosomeSplit, _ = seedUtils.splitChromosome(x)\n",
    "    perimeter, bbox, colour, alpha = seedUtils.chromosome2image(x)\n",
    "    isShaped = chromosomeSplit[seedUtils.chromosomeOrder.index('isShaped')][0]\n",
    "    isColoured = chromosomeSplit[seedUtils.chromosomeOrder.index('isColoured')][0]\n",
    "\n",
    "    #img = io.BytesIO()\n",
    "    #fig = plt.figure()\n",
    "\n",
    "    if isShaped :\n",
    "        p2 = deepcopy(perimeter)\n",
    "        p2[0] = p2[0] - bbox['x0']\n",
    "        p2[1] = p2[1] - bbox['y0']\n",
    "        p2[0] = p2[0] / bbox['width']\n",
    "        p2[1] = p2[1] / bbox['height']\n",
    "        p2 *= 99\n",
    "        p2 = np.uint(p2)\n",
    "\n",
    "        if isColoured :\n",
    "            colour = list(np.asarray(colour)*255)\n",
    "        else :\n",
    "            colour = None\n",
    "\n",
    "        ble = seedUtils.cv2fyV2(p2, 100, 100, \n",
    "                                bgColour=(255,255,255), \n",
    "                                perimeterColour=(0,0,0), fillColour=colour)\n",
    "        #plt.imshow(ble)\n",
    "\n",
    "    else :\n",
    "        ble = np.asarray(255.0 * np.asarray(colour), dtype=np.uint8)\n",
    "        ble = np.asarray([[ble]], dtype=np.uint8)\n",
    "        #plt.imshow(ble)\n",
    "\n",
    "    #plt.axis(\"off\")\n",
    "    #plt.savefig(img, format='png')\n",
    "    #plt.cla()\n",
    "    #plt.clf()\n",
    "    #plt.close()\n",
    "    #img.seek(0)\n",
    "    ret, buffer = cv2.imencode('.png', ble)\n",
    "    plot_url = base64.b64encode(buffer).decode()\n",
    "\n",
    "    return plot_url"
   ]
  },
  {
   "cell_type": "code",
   "execution_count": null,
   "metadata": {},
   "outputs": [],
   "source": [
    "def flaskStub_displayImg(img) :\n",
    "    display(HTML(\"<img src='data:image/png;base64,\" + img + \"'  width='100' height='100'/>\"))"
   ]
  },
  {
   "cell_type": "code",
   "execution_count": null,
   "metadata": {},
   "outputs": [],
   "source": [
    "def chromosomeStrToChromosome(dst, x) :\n",
    "    ch = x.split(\"|\")\n",
    "    ch = [v.split(\" \") for v in ch]\n",
    "    ch = [item for sublist in ch for item in sublist]\n",
    "    \n",
    "    for i in range(len(ch)) :\n",
    "        v = ch[i]\n",
    "        try :\n",
    "            dst[i] = int(v)\n",
    "        except ValueError :\n",
    "            dst[i] = float(v)\n",
    "    "
   ]
  },
  {
   "cell_type": "code",
   "execution_count": null,
   "metadata": {},
   "outputs": [],
   "source": [
    "def renderDataset(renderBBox=True, renderDetails=False) :\n",
    "    global dataset, dataset_rgb, dataset_mask\n",
    "    \n",
    "    for img_idx in range(len(dataset)) :\n",
    "        renderDatasetImage(img_idx, renderBBox, renderDetails)"
   ]
  },
  {
   "cell_type": "code",
   "execution_count": null,
   "metadata": {},
   "outputs": [],
   "source": [
    "def renderDatasetImg(image, title=None) :\n",
    "    ble = cv2.cvtColor(image, cv2.COLOR_RGB2BGR)\n",
    "    ret, buffer = cv2.imencode('.png', ble)\n",
    "    plot_url = base64.b64encode(buffer).decode()\n",
    "\n",
    "    return plot_url"
   ]
  },
  {
   "cell_type": "code",
   "execution_count": null,
   "metadata": {},
   "outputs": [],
   "source": [
    "def renderDatasetImage(img_idx, renderBBox=True, renderDetails=False) :\n",
    "    \n",
    "    global dataset_rgb, dataset_mask, dataset_r, dataset_g, dataset_b, dataset_muR, dataset_muG, dataset_muB\n",
    "    \n",
    "    nFigures = 6 if renderDetails else 3  # for now: rgb, mask, pixel of mu colour, r, g, b,  \n",
    "    \n",
    "    fig, axes = plt.subplots(1, nFigures, sharex=False, sharey=False, squeeze=True)\n",
    "    \n",
    "    plt.subplot(1, nFigures, 1)\n",
    "    refImg = deepcopy(dataset_rgb[img_idx])\n",
    "    if renderBBox :\n",
    "        img_bbox = getDatasetImgBBox(img_idx)\n",
    "        refImg = cv2.rectangle(refImg, (img_bbox['x0'], img_bbox['y0']), \n",
    "                               (img_bbox['x0'] + img_bbox['width'], img_bbox['y0'] + img_bbox['height']), \n",
    "                               (0,255,0), 5)\n",
    "    plt.imshow(refImg)\n",
    "    plt.title(\"original\")\n",
    "    \n",
    "    plt.subplot(1, nFigures, 2)\n",
    "    plt.imshow(dataset_mask[img_idx])\n",
    "    plt.title(\"mask\")# ({0} x {1})\".format(img_bbox['width'], img_bbox['height']))\n",
    "    plt.axis('off')\n",
    "    \n",
    "    plt.subplot(1, nFigures, 3)\n",
    "    ble = np.asarray([[[dataset_muR[img_idx],dataset_muG[img_idx],dataset_muB[img_idx]]]], dtype=np.uint8)\n",
    "    plt.imshow(ble)\n",
    "    plt.title(\"muRGB\")\n",
    "    plt.axis('off')\n",
    "    \n",
    "    if renderDetails :\n",
    "        plt.subplot(1, nFigures, 4)\n",
    "        plt.imshow(dataset_r[img_idx])\n",
    "        plt.title(\"red\")\n",
    "        plt.axis('off')\n",
    "        \n",
    "        plt.subplot(1, nFigures, 5)\n",
    "        plt.imshow(dataset_g[img_idx])\n",
    "        plt.title(\"green\")\n",
    "        plt.axis('off')\n",
    "        \n",
    "        plt.subplot(1, nFigures, 6)\n",
    "        plt.imshow(dataset_b[img_idx])\n",
    "        plt.title(\"blue\")        \n",
    "        plt.axis('off')\n",
    "\n",
    "    plt.show()"
   ]
  },
  {
   "cell_type": "code",
   "execution_count": null,
   "metadata": {},
   "outputs": [],
   "source": [
    "def behaviourToInt(x) :\n",
    "    v = [int(y) for y in x.split(';')]\n",
    "    s = 0\n",
    "    for i in range(len(v)) :\n",
    "        s += v[i] * int(np.exp(i))\n",
    "    return s"
   ]
  },
  {
   "cell_type": "markdown",
   "metadata": {},
   "source": [
    "# SETTINGS"
   ]
  },
  {
   "cell_type": "code",
   "execution_count": null,
   "metadata": {},
   "outputs": [],
   "source": [
    "baseResultsFolder = \"../\""
   ]
  },
  {
   "cell_type": "code",
   "execution_count": null,
   "metadata": {},
   "outputs": [],
   "source": [
    "resultsFolder = baseResultsFolder + \"evolution/\""
   ]
  },
  {
   "cell_type": "code",
   "execution_count": null,
   "metadata": {},
   "outputs": [],
   "source": [
    "outFolder = \"evolutionNetwork\""
   ]
  },
  {
   "cell_type": "code",
   "execution_count": null,
   "metadata": {},
   "outputs": [],
   "source": [
    "if outFolder not in os.listdir(baseResultsFolder) :\n",
    "    print(\"creating\", baseResultsFolder + outFolder)\n",
    "    os.mkdir(baseResultsFolder + outFolder)"
   ]
  },
  {
   "cell_type": "code",
   "execution_count": null,
   "metadata": {},
   "outputs": [],
   "source": [
    "outFolder = baseResultsFolder + outFolder + \"/\""
   ]
  },
  {
   "cell_type": "code",
   "execution_count": null,
   "metadata": {
    "scrolled": true
   },
   "outputs": [],
   "source": [
    "seedUtils.initDEAP()"
   ]
  },
  {
   "cell_type": "code",
   "execution_count": null,
   "metadata": {},
   "outputs": [],
   "source": [
    "seedUtils.loadDataset()"
   ]
  },
  {
   "cell_type": "code",
   "execution_count": null,
   "metadata": {},
   "outputs": [],
   "source": [
    "dataset_rgb = [renderDatasetImg(img, \"original\") for img in seedUtils.dataset_rgb]"
   ]
  },
  {
   "cell_type": "code",
   "execution_count": null,
   "metadata": {},
   "outputs": [],
   "source": [
    "dataset_mu = []\n",
    "for i in range(len(seedUtils.dataset)) :\n",
    "    muR = seedUtils.dataset_muR[i]\n",
    "    muG = seedUtils.dataset_muG[i]\n",
    "    muB = seedUtils.dataset_muB[i]\n",
    "    dataset_mu.append(renderDatasetImgMuRGB(muR, muG, muB, \"muRGB\"))"
   ]
  },
  {
   "cell_type": "markdown",
   "metadata": {},
   "source": [
    "# START ANALYSIS"
   ]
  },
  {
   "cell_type": "code",
   "execution_count": null,
   "metadata": {},
   "outputs": [],
   "source": [
    "fileList = os.listdir(resultsFolder)"
   ]
  },
  {
   "cell_type": "code",
   "execution_count": null,
   "metadata": {},
   "outputs": [],
   "source": [
    "fileList"
   ]
  },
  {
   "cell_type": "markdown",
   "metadata": {},
   "source": [
    "# save the evolution in HTML format for each user"
   ]
  },
  {
   "cell_type": "code",
   "execution_count": null,
   "metadata": {},
   "outputs": [],
   "source": [
    "for f in fileList :\n",
    "    print(f)\n",
    "    df = pd.read_csv(resultsFolder + f)\n",
    "    print(f, df.shape)\n",
    "    df['userID'] = f\n",
    "    userName = f.split(\"_\")[1]\n",
    "    df['userName'] = userName\n",
    "    df['behaviourInt'] = df['behaviour'].apply(lambda x : behaviourToInt(x))\n",
    "    \n",
    "    ble = open(outFolder + \"evolution_\" + f + \".html\", \"w\")\n",
    "    ble.write(\"<h1>\" + userName + \"</h1>\\n\")\n",
    "    ble.write(\"<table border='1' cellpadding='5' cellspacing='10'>\")\n",
    "    ble.write(\"<tr><td>Loop</td><td>Chromosome</td><td>Thresholds</td><td>Classified Dataset</td></tr>\")\n",
    "    for i in range(len(df)) :\n",
    "        \n",
    "        # loop (for network mixing)\n",
    "        html = \"<tr><td>\" + str(i) + \"</td>\"\n",
    "        \n",
    "        g = df.iloc[i]['genotype']\n",
    "        x = [-1 for _ in range(seedUtils.chromosomeLen)]\n",
    "        \n",
    "        chromosomeStrToChromosome(x, g)\n",
    "        img = renderChromosome2(x)\n",
    "        d = seedUtils.splitChromosome(x)[1]\n",
    "        \n",
    "        # chromosome\n",
    "        html += \"</td><td><img src='data:image/png;base64,\" + img + \"'  width='100' height='100'/></td>\"\n",
    "        \n",
    "        chromosomeBehaviour = [int(x) for x in df.iloc[i]['behaviour'].split(\";\")]\n",
    "        #print(sum(chromosomeBehaviour))\n",
    "        \n",
    "        # thresholds\n",
    "        html += \"<td>Colour:\" + str(d['colourMatchingOverlap'][0]) + \" Shape:\" + str(d['shapeMatchingOverlap'][0])  + \"</td>\"\n",
    "        \n",
    "        # classified dataset        \n",
    "        html += \"<td>\"\n",
    "        \n",
    "        for j in range(len(chromosomeBehaviour)) :\n",
    "            if chromosomeBehaviour[j] == 1 :\n",
    "                html += \"<img src='data:image/png;base64,\" + dataset_rgb[j] + \"'  width='50' height='50'/>\"\n",
    "\n",
    "        html += \"</td></tr>\"\n",
    "        \n",
    "        ble.write(html + \"\\n\")\n",
    "    ble.write(\"</table>\")\n",
    "    ble.close()\n",
    "print(\"done! now print!\")"
   ]
  },
  {
   "cell_type": "markdown",
   "metadata": {},
   "source": [
    "# IDENTIFY EVOLUTION INTERSECTIONS"
   ]
  },
  {
   "cell_type": "code",
   "execution_count": null,
   "metadata": {},
   "outputs": [],
   "source": [
    "megaDF = pd.DataFrame()\n",
    "for f in fileList :\n",
    "    df = pd.read_csv(resultsFolder + f)\n",
    "    print(f, df.shape)\n",
    "    df['userID'] = f\n",
    "    df['userName'] = f.split(\"_\")[1]\n",
    "    df['behaviourInt'] = df['behaviour'].apply(lambda x : behaviourToInt(x))\n",
    "    megaDF = megaDF.append(df, ignore_index=True)"
   ]
  },
  {
   "cell_type": "code",
   "execution_count": null,
   "metadata": {},
   "outputs": [],
   "source": [
    "megaDF.shape"
   ]
  },
  {
   "cell_type": "code",
   "execution_count": null,
   "metadata": {},
   "outputs": [],
   "source": [
    "behaviours = list(megaDF['behaviourInt'].drop_duplicates())"
   ]
  },
  {
   "cell_type": "code",
   "execution_count": null,
   "metadata": {},
   "outputs": [],
   "source": [
    "for b in behaviours :\n",
    "    miniDf = megaDF[megaDF['behaviourInt'] == b]\n",
    "    users = list(miniDf['userID'].drop_duplicates())\n",
    "    if len(users) > 1 :\n",
    "        print(\"intersection at behaviourInt\", b)\n",
    "        for u in users :\n",
    "            loops = list(miniDf[miniDf['userID'] == u]['loop'])\n",
    "            print(\"\\t\", u, \"Loops:\", \";\".join([str(x) for x in loops]))"
   ]
  }
 ],
 "metadata": {
  "kernelspec": {
   "display_name": "Python 3",
   "language": "python",
   "name": "python3"
  },
  "language_info": {
   "codemirror_mode": {
    "name": "ipython",
    "version": 3
   },
   "file_extension": ".py",
   "mimetype": "text/x-python",
   "name": "python",
   "nbconvert_exporter": "python",
   "pygments_lexer": "ipython3",
   "version": "3.6.3"
  }
 },
 "nbformat": 4,
 "nbformat_minor": 2
}
